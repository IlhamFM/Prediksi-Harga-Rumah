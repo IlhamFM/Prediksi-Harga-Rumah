{
 "cells": [
  {
   "cell_type": "code",
   "execution_count": 1,
   "id": "d19621aa-9f86-44f6-9b11-7840855bcfdc",
   "metadata": {},
   "outputs": [],
   "source": [
    "import matplotlib.pyplot as plt\n",
    "import pandas as pd\n",
    "import numpy as np\n",
    "import src.util as utils\n",
    "import seaborn as sns"
   ]
  },
  {
   "cell_type": "code",
   "execution_count": 2,
   "id": "953d494c-b3a2-40d0-9679-b9b3e62fd928",
   "metadata": {},
   "outputs": [],
   "source": [
    "konfig = utils.load_params(str(utils.get_dir()) + utils.get_params())"
   ]
  },
  {
   "cell_type": "code",
   "execution_count": 3,
   "id": "6b84fe98-c604-421d-ad0d-f9c147aef0f4",
   "metadata": {},
   "outputs": [],
   "source": [
    "X_train = utils.pickle_load(str(utils.get_dir())+utils.cek_path_os(konfig[\"train_set_path\"][0]))"
   ]
  },
  {
   "cell_type": "code",
   "execution_count": 4,
   "id": "1f76e4ea-d6f9-4cfa-834e-791163f3823c",
   "metadata": {},
   "outputs": [
    {
     "data": {
      "text/html": [
       "<div>\n",
       "<style scoped>\n",
       "    .dataframe tbody tr th:only-of-type {\n",
       "        vertical-align: middle;\n",
       "    }\n",
       "\n",
       "    .dataframe tbody tr th {\n",
       "        vertical-align: top;\n",
       "    }\n",
       "\n",
       "    .dataframe thead th {\n",
       "        text-align: right;\n",
       "    }\n",
       "</style>\n",
       "<table border=\"1\" class=\"dataframe\">\n",
       "  <thead>\n",
       "    <tr style=\"text-align: right;\">\n",
       "      <th></th>\n",
       "      <th>LB</th>\n",
       "      <th>LT</th>\n",
       "      <th>KT</th>\n",
       "      <th>KM</th>\n",
       "      <th>GRS</th>\n",
       "    </tr>\n",
       "  </thead>\n",
       "  <tbody>\n",
       "    <tr>\n",
       "      <th>846</th>\n",
       "      <td>140</td>\n",
       "      <td>84</td>\n",
       "      <td>3</td>\n",
       "      <td>2</td>\n",
       "      <td>1</td>\n",
       "    </tr>\n",
       "    <tr>\n",
       "      <th>35</th>\n",
       "      <td>220</td>\n",
       "      <td>120</td>\n",
       "      <td>4</td>\n",
       "      <td>4</td>\n",
       "      <td>3</td>\n",
       "    </tr>\n",
       "    <tr>\n",
       "      <th>728</th>\n",
       "      <td>525</td>\n",
       "      <td>330</td>\n",
       "      <td>4</td>\n",
       "      <td>4</td>\n",
       "      <td>3</td>\n",
       "    </tr>\n",
       "    <tr>\n",
       "      <th>811</th>\n",
       "      <td>480</td>\n",
       "      <td>312</td>\n",
       "      <td>4</td>\n",
       "      <td>2</td>\n",
       "      <td>1</td>\n",
       "    </tr>\n",
       "    <tr>\n",
       "      <th>293</th>\n",
       "      <td>102</td>\n",
       "      <td>102</td>\n",
       "      <td>3</td>\n",
       "      <td>3</td>\n",
       "      <td>2</td>\n",
       "    </tr>\n",
       "    <tr>\n",
       "      <th>...</th>\n",
       "      <td>...</td>\n",
       "      <td>...</td>\n",
       "      <td>...</td>\n",
       "      <td>...</td>\n",
       "      <td>...</td>\n",
       "    </tr>\n",
       "    <tr>\n",
       "      <th>320</th>\n",
       "      <td>150</td>\n",
       "      <td>135</td>\n",
       "      <td>3</td>\n",
       "      <td>2</td>\n",
       "      <td>1</td>\n",
       "    </tr>\n",
       "    <tr>\n",
       "      <th>527</th>\n",
       "      <td>400</td>\n",
       "      <td>230</td>\n",
       "      <td>5</td>\n",
       "      <td>5</td>\n",
       "      <td>3</td>\n",
       "    </tr>\n",
       "    <tr>\n",
       "      <th>996</th>\n",
       "      <td>200</td>\n",
       "      <td>145</td>\n",
       "      <td>8</td>\n",
       "      <td>8</td>\n",
       "      <td>1</td>\n",
       "    </tr>\n",
       "    <tr>\n",
       "      <th>125</th>\n",
       "      <td>139</td>\n",
       "      <td>230</td>\n",
       "      <td>4</td>\n",
       "      <td>4</td>\n",
       "      <td>1</td>\n",
       "    </tr>\n",
       "    <tr>\n",
       "      <th>265</th>\n",
       "      <td>200</td>\n",
       "      <td>186</td>\n",
       "      <td>3</td>\n",
       "      <td>2</td>\n",
       "      <td>2</td>\n",
       "    </tr>\n",
       "  </tbody>\n",
       "</table>\n",
       "<p>707 rows × 5 columns</p>\n",
       "</div>"
      ],
      "text/plain": [
       "      LB   LT  KT  KM  GRS\n",
       "846  140   84   3   2    1\n",
       "35   220  120   4   4    3\n",
       "728  525  330   4   4    3\n",
       "811  480  312   4   2    1\n",
       "293  102  102   3   3    2\n",
       "..   ...  ...  ..  ..  ...\n",
       "320  150  135   3   2    1\n",
       "527  400  230   5   5    3\n",
       "996  200  145   8   8    1\n",
       "125  139  230   4   4    1\n",
       "265  200  186   3   2    2\n",
       "\n",
       "[707 rows x 5 columns]"
      ]
     },
     "execution_count": 4,
     "metadata": {},
     "output_type": "execute_result"
    }
   ],
   "source": [
    "X_train"
   ]
  },
  {
   "cell_type": "code",
   "execution_count": 80,
   "id": "f257c279-2098-4c81-af38-7c902494d387",
   "metadata": {},
   "outputs": [
    {
     "data": {
      "text/html": [
       "<div>\n",
       "<style scoped>\n",
       "    .dataframe tbody tr th:only-of-type {\n",
       "        vertical-align: middle;\n",
       "    }\n",
       "\n",
       "    .dataframe tbody tr th {\n",
       "        vertical-align: top;\n",
       "    }\n",
       "\n",
       "    .dataframe thead th {\n",
       "        text-align: right;\n",
       "    }\n",
       "</style>\n",
       "<table border=\"1\" class=\"dataframe\">\n",
       "  <thead>\n",
       "    <tr style=\"text-align: right;\">\n",
       "      <th></th>\n",
       "      <th>LB</th>\n",
       "      <th>LT</th>\n",
       "      <th>KT</th>\n",
       "      <th>KM</th>\n",
       "      <th>GRS</th>\n",
       "    </tr>\n",
       "  </thead>\n",
       "  <tbody>\n",
       "    <tr>\n",
       "      <th>count</th>\n",
       "      <td>707.000000</td>\n",
       "      <td>707.000000</td>\n",
       "      <td>707.000000</td>\n",
       "      <td>707.000000</td>\n",
       "      <td>707.000000</td>\n",
       "    </tr>\n",
       "    <tr>\n",
       "      <th>mean</th>\n",
       "      <td>279.917963</td>\n",
       "      <td>239.717115</td>\n",
       "      <td>4.718529</td>\n",
       "      <td>3.625177</td>\n",
       "      <td>1.906648</td>\n",
       "    </tr>\n",
       "    <tr>\n",
       "      <th>std</th>\n",
       "      <td>181.353775</td>\n",
       "      <td>182.116730</td>\n",
       "      <td>1.619196</td>\n",
       "      <td>1.459399</td>\n",
       "      <td>1.475887</td>\n",
       "    </tr>\n",
       "    <tr>\n",
       "      <th>min</th>\n",
       "      <td>40.000000</td>\n",
       "      <td>25.000000</td>\n",
       "      <td>2.000000</td>\n",
       "      <td>1.000000</td>\n",
       "      <td>0.000000</td>\n",
       "    </tr>\n",
       "    <tr>\n",
       "      <th>25%</th>\n",
       "      <td>152.000000</td>\n",
       "      <td>130.000000</td>\n",
       "      <td>4.000000</td>\n",
       "      <td>3.000000</td>\n",
       "      <td>1.000000</td>\n",
       "    </tr>\n",
       "    <tr>\n",
       "      <th>50%</th>\n",
       "      <td>219.000000</td>\n",
       "      <td>170.000000</td>\n",
       "      <td>5.000000</td>\n",
       "      <td>3.000000</td>\n",
       "      <td>2.000000</td>\n",
       "    </tr>\n",
       "    <tr>\n",
       "      <th>75%</th>\n",
       "      <td>350.000000</td>\n",
       "      <td>300.000000</td>\n",
       "      <td>5.000000</td>\n",
       "      <td>4.000000</td>\n",
       "      <td>2.000000</td>\n",
       "    </tr>\n",
       "    <tr>\n",
       "      <th>max</th>\n",
       "      <td>1126.000000</td>\n",
       "      <td>1400.000000</td>\n",
       "      <td>10.000000</td>\n",
       "      <td>10.000000</td>\n",
       "      <td>10.000000</td>\n",
       "    </tr>\n",
       "  </tbody>\n",
       "</table>\n",
       "</div>"
      ],
      "text/plain": [
       "                LB           LT          KT          KM         GRS\n",
       "count   707.000000   707.000000  707.000000  707.000000  707.000000\n",
       "mean    279.917963   239.717115    4.718529    3.625177    1.906648\n",
       "std     181.353775   182.116730    1.619196    1.459399    1.475887\n",
       "min      40.000000    25.000000    2.000000    1.000000    0.000000\n",
       "25%     152.000000   130.000000    4.000000    3.000000    1.000000\n",
       "50%     219.000000   170.000000    5.000000    3.000000    2.000000\n",
       "75%     350.000000   300.000000    5.000000    4.000000    2.000000\n",
       "max    1126.000000  1400.000000   10.000000   10.000000   10.000000"
      ]
     },
     "execution_count": 80,
     "metadata": {},
     "output_type": "execute_result"
    }
   ],
   "source": [
    "X_train.describe()"
   ]
  },
  {
   "cell_type": "code",
   "execution_count": 31,
   "id": "241cea52-c3ee-48c0-bed3-52b7e4df6dd3",
   "metadata": {},
   "outputs": [],
   "source": [
    "y_train = utils.pickle_load(str(utils.get_dir())+utils.cek_path_os(konfig[\"train_set_path\"][1]))"
   ]
  },
  {
   "cell_type": "code",
   "execution_count": 32,
   "id": "24408219-ceb8-44ba-96c2-254a0e2e6e00",
   "metadata": {},
   "outputs": [
    {
     "data": {
      "text/html": [
       "<div>\n",
       "<style scoped>\n",
       "    .dataframe tbody tr th:only-of-type {\n",
       "        vertical-align: middle;\n",
       "    }\n",
       "\n",
       "    .dataframe tbody tr th {\n",
       "        vertical-align: top;\n",
       "    }\n",
       "\n",
       "    .dataframe thead th {\n",
       "        text-align: right;\n",
       "    }\n",
       "</style>\n",
       "<table border=\"1\" class=\"dataframe\">\n",
       "  <thead>\n",
       "    <tr style=\"text-align: right;\">\n",
       "      <th></th>\n",
       "      <th>HARGA</th>\n",
       "    </tr>\n",
       "  </thead>\n",
       "  <tbody>\n",
       "    <tr>\n",
       "      <th>846</th>\n",
       "      <td>2600000000</td>\n",
       "    </tr>\n",
       "    <tr>\n",
       "      <th>35</th>\n",
       "      <td>4000000000</td>\n",
       "    </tr>\n",
       "    <tr>\n",
       "      <th>728</th>\n",
       "      <td>16000000000</td>\n",
       "    </tr>\n",
       "    <tr>\n",
       "      <th>811</th>\n",
       "      <td>12500000000</td>\n",
       "    </tr>\n",
       "    <tr>\n",
       "      <th>293</th>\n",
       "      <td>2999000000</td>\n",
       "    </tr>\n",
       "    <tr>\n",
       "      <th>...</th>\n",
       "      <td>...</td>\n",
       "    </tr>\n",
       "    <tr>\n",
       "      <th>320</th>\n",
       "      <td>3750000000</td>\n",
       "    </tr>\n",
       "    <tr>\n",
       "      <th>527</th>\n",
       "      <td>8800000000</td>\n",
       "    </tr>\n",
       "    <tr>\n",
       "      <th>996</th>\n",
       "      <td>3800000000</td>\n",
       "    </tr>\n",
       "    <tr>\n",
       "      <th>125</th>\n",
       "      <td>4000000000</td>\n",
       "    </tr>\n",
       "    <tr>\n",
       "      <th>265</th>\n",
       "      <td>3850000000</td>\n",
       "    </tr>\n",
       "  </tbody>\n",
       "</table>\n",
       "<p>707 rows × 1 columns</p>\n",
       "</div>"
      ],
      "text/plain": [
       "           HARGA\n",
       "846   2600000000\n",
       "35    4000000000\n",
       "728  16000000000\n",
       "811  12500000000\n",
       "293   2999000000\n",
       "..           ...\n",
       "320   3750000000\n",
       "527   8800000000\n",
       "996   3800000000\n",
       "125   4000000000\n",
       "265   3850000000\n",
       "\n",
       "[707 rows x 1 columns]"
      ]
     },
     "execution_count": 32,
     "metadata": {},
     "output_type": "execute_result"
    }
   ],
   "source": [
    "y_train"
   ]
  },
  {
   "cell_type": "code",
   "execution_count": 81,
   "id": "4f73f1d5-0700-4b97-bea8-926b141f5f43",
   "metadata": {},
   "outputs": [
    {
     "data": {
      "text/html": [
       "<div>\n",
       "<style scoped>\n",
       "    .dataframe tbody tr th:only-of-type {\n",
       "        vertical-align: middle;\n",
       "    }\n",
       "\n",
       "    .dataframe tbody tr th {\n",
       "        vertical-align: top;\n",
       "    }\n",
       "\n",
       "    .dataframe thead th {\n",
       "        text-align: right;\n",
       "    }\n",
       "</style>\n",
       "<table border=\"1\" class=\"dataframe\">\n",
       "  <thead>\n",
       "    <tr style=\"text-align: right;\">\n",
       "      <th></th>\n",
       "      <th>HARGA</th>\n",
       "    </tr>\n",
       "  </thead>\n",
       "  <tbody>\n",
       "    <tr>\n",
       "      <th>count</th>\n",
       "      <td>7.070000e+02</td>\n",
       "    </tr>\n",
       "    <tr>\n",
       "      <th>mean</th>\n",
       "      <td>7.705030e+09</td>\n",
       "    </tr>\n",
       "    <tr>\n",
       "      <th>std</th>\n",
       "      <td>7.653145e+09</td>\n",
       "    </tr>\n",
       "    <tr>\n",
       "      <th>min</th>\n",
       "      <td>4.300000e+08</td>\n",
       "    </tr>\n",
       "    <tr>\n",
       "      <th>25%</th>\n",
       "      <td>3.200000e+09</td>\n",
       "    </tr>\n",
       "    <tr>\n",
       "      <th>50%</th>\n",
       "      <td>4.970000e+09</td>\n",
       "    </tr>\n",
       "    <tr>\n",
       "      <th>75%</th>\n",
       "      <td>9.000000e+09</td>\n",
       "    </tr>\n",
       "    <tr>\n",
       "      <th>max</th>\n",
       "      <td>6.500000e+10</td>\n",
       "    </tr>\n",
       "  </tbody>\n",
       "</table>\n",
       "</div>"
      ],
      "text/plain": [
       "              HARGA\n",
       "count  7.070000e+02\n",
       "mean   7.705030e+09\n",
       "std    7.653145e+09\n",
       "min    4.300000e+08\n",
       "25%    3.200000e+09\n",
       "50%    4.970000e+09\n",
       "75%    9.000000e+09\n",
       "max    6.500000e+10"
      ]
     },
     "execution_count": 81,
     "metadata": {},
     "output_type": "execute_result"
    }
   ],
   "source": [
    "y_train.describe()"
   ]
  },
  {
   "cell_type": "code",
   "execution_count": 33,
   "id": "423b132b-a336-4fb7-9767-180d9d824fb4",
   "metadata": {},
   "outputs": [
    {
     "data": {
      "text/plain": [
       "(array([10., 18., 36., 92., 88., 73., 34., 39., 37., 30., 32., 18., 14.,\n",
       "        18., 26.,  7., 10.,  8.,  6., 13.,  3.,  6., 12.,  0.,  7.,  3.,\n",
       "         1.,  6.,  2.,  0.,  3.,  1.,  0.,  7., 12.,  0.,  0.,  0., 10.,\n",
       "         1.,  0.,  0.,  3.,  0.,  1.,  7.,  0.,  2.,  0.,  0.,  0.,  0.,\n",
       "         0.,  3.,  0.,  0.,  1.,  0.,  1.,  0.,  0.,  0.,  1.,  0.,  2.,\n",
       "         0.,  0.,  0.,  0.,  0.,  0.,  0.,  0.,  0.,  0.,  0.,  0.,  0.,\n",
       "         0.,  0.,  0.,  0.,  0.,  0.,  2.,  0.,  0.,  0.,  0.,  0.,  0.,\n",
       "         0.,  0.,  0.,  0.,  0.,  0.,  0.,  0.,  1.]),\n",
       " array([4.30000e+08, 1.07570e+09, 1.72140e+09, 2.36710e+09, 3.01280e+09,\n",
       "        3.65850e+09, 4.30420e+09, 4.94990e+09, 5.59560e+09, 6.24130e+09,\n",
       "        6.88700e+09, 7.53270e+09, 8.17840e+09, 8.82410e+09, 9.46980e+09,\n",
       "        1.01155e+10, 1.07612e+10, 1.14069e+10, 1.20526e+10, 1.26983e+10,\n",
       "        1.33440e+10, 1.39897e+10, 1.46354e+10, 1.52811e+10, 1.59268e+10,\n",
       "        1.65725e+10, 1.72182e+10, 1.78639e+10, 1.85096e+10, 1.91553e+10,\n",
       "        1.98010e+10, 2.04467e+10, 2.10924e+10, 2.17381e+10, 2.23838e+10,\n",
       "        2.30295e+10, 2.36752e+10, 2.43209e+10, 2.49666e+10, 2.56123e+10,\n",
       "        2.62580e+10, 2.69037e+10, 2.75494e+10, 2.81951e+10, 2.88408e+10,\n",
       "        2.94865e+10, 3.01322e+10, 3.07779e+10, 3.14236e+10, 3.20693e+10,\n",
       "        3.27150e+10, 3.33607e+10, 3.40064e+10, 3.46521e+10, 3.52978e+10,\n",
       "        3.59435e+10, 3.65892e+10, 3.72349e+10, 3.78806e+10, 3.85263e+10,\n",
       "        3.91720e+10, 3.98177e+10, 4.04634e+10, 4.11091e+10, 4.17548e+10,\n",
       "        4.24005e+10, 4.30462e+10, 4.36919e+10, 4.43376e+10, 4.49833e+10,\n",
       "        4.56290e+10, 4.62747e+10, 4.69204e+10, 4.75661e+10, 4.82118e+10,\n",
       "        4.88575e+10, 4.95032e+10, 5.01489e+10, 5.07946e+10, 5.14403e+10,\n",
       "        5.20860e+10, 5.27317e+10, 5.33774e+10, 5.40231e+10, 5.46688e+10,\n",
       "        5.53145e+10, 5.59602e+10, 5.66059e+10, 5.72516e+10, 5.78973e+10,\n",
       "        5.85430e+10, 5.91887e+10, 5.98344e+10, 6.04801e+10, 6.11258e+10,\n",
       "        6.17715e+10, 6.24172e+10, 6.30629e+10, 6.37086e+10, 6.43543e+10,\n",
       "        6.50000e+10]),\n",
       " <BarContainer object of 100 artists>)"
      ]
     },
     "execution_count": 72,
     "metadata": {},
     "output_type": "execute_result"
    },
    {
     "data": {
      "image/png": "[encoded data removed]",
      "text/plain": [
       "<Figure size 432x288 with 1 Axes>"
      ]
     },
     "metadata": {
      "needs_background": "light"
     },
     "output_type": "display_data"
    }
   ],
   "source": [
    "plt.hist(y_train.to_numpy(), 100)"
   ]
  },
  {
   "cell_type": "code",
   "execution_count": 41,
   "id": "3f43bd53-083e-42ad-b343-5bc3fe91df81",
   "metadata": {},
   "outputs": [
    {
     "data": {
      "text/plain": [
       "<function matplotlib.pyplot.show(close=None, block=None)>"
      ]
     },
     "execution_count": 41,
     "metadata": {},
     "output_type": "execute_result"
    },
    {
     "data": {
      "image/png": "[encoded data removed]",
      "text/plain": [
       "<Figure size 432x288 with 1 Axes>"
      ]
     },
     "metadata": {
      "needs_background": "light"
     },
     "output_type": "display_data"
    }
   ],
   "source": [
    "plt.scatter(X_train[\"LB\"], y_train)\n",
    "plt.xlabel(\"LB\")\n",
    "plt.ylabel(\"Harga\")\n",
    "plt.show"
   ]
  },
  {
   "cell_type": "code",
   "execution_count": 58,
   "id": "97f2507e-1e96-48c4-b775-404edcedec02",
   "metadata": {},
   "outputs": [
    {
     "data": {
      "text/plain": [
       "<function matplotlib.pyplot.show(close=None, block=None)>"
      ]
     },
     "execution_count": 58,
     "metadata": {},
     "output_type": "execute_result"
    },
    {
     "data": {
      "image/png": "[encoded data removed]",
      "text/plain": [
       "<Figure size 432x288 with 1 Axes>"
      ]
     },
     "metadata": {
      "needs_background": "light"
     },
     "output_type": "display_data"
    }
   ],
   "source": [
    "plt.scatter(X_train[\"LT\"], y_train)\n",
    "plt.xlabel(\"LT\")\n",
    "plt.ylabel(\"Harga\")\n",
    "plt.show"
   ]
  },
  {
   "cell_type": "code",
   "execution_count": 61,
   "id": "84b50619-ab06-44e9-8368-1ff03a5847f1",
   "metadata": {},
   "outputs": [
    {
     "data": {
      "text/plain": [
       "<function matplotlib.pyplot.show(close=None, block=None)>"
      ]
     },
     "execution_count": 61,
     "metadata": {},
     "output_type": "execute_result"
    },
    {
     "data": {
      "image/png": "[encoded data removed]",
      "text/plain": [
       "<Figure size 432x288 with 1 Axes>"
      ]
     },
     "metadata": {
      "needs_background": "light"
     },
     "output_type": "display_data"
    }
   ],
   "source": [
    "plt.scatter(X_train[\"KT\"], y_train)\n",
    "plt.xlabel(\"KT\")\n",
    "plt.ylabel(\"Harga\")\n",
    "plt.show"
   ]
  },
  {
   "cell_type": "code",
   "execution_count": 62,
   "id": "1f7747dd-c00c-4499-ac8c-9cb7c1fbca63",
   "metadata": {},
   "outputs": [
    {
     "data": {
      "text/plain": [
       "<function matplotlib.pyplot.show(close=None, block=None)>"
      ]
     },
     "execution_count": 62,
     "metadata": {},
     "output_type": "execute_result"
    },
    {
     "data": {
      "image/png": "[encoded data removed]",
      "text/plain": [
       "<Figure size 432x288 with 1 Axes>"
      ]
     },
     "metadata": {
      "needs_background": "light"
     },
     "output_type": "display_data"
    }
   ],
   "source": [
    "plt.scatter(X_train[\"KM\"], y_train)\n",
    "plt.xlabel(\"KM\")\n",
    "plt.ylabel(\"Harga\")\n",
    "plt.show"
   ]
  },
  {
   "cell_type": "code",
   "execution_count": 63,
   "id": "8545a805-f952-45cb-9343-06bf829e9ff3",
   "metadata": {},
   "outputs": [
    {
     "data": {
      "text/plain": [
       "Text(0, 0.5, 'Harga')"
      ]
     },
     "execution_count": 64,
     "metadata": {},
     "output_type": "execute_result"
    },
    {
     "data": {
      "image/png": "[encoded data removed]",
      "text/plain": [
       "<Figure size 432x288 with 1 Axes>"
      ]
     },
     "metadata": {
      "needs_background": "light"
     },
     "output_type": "display_data"
    }
   ],
   "source": [
    "plt.scatter(X_train[\"GRS\"], y_train)\n",
    "plt.xlabel(\"GRS\")\n",
    "plt.ylabel(\"Harga\")\n",
    "plt.show"
   ]
  },
  {
   "cell_type": "code",
   "execution_count": 57,
   "id": "c3b5c1e8-3c93-48bd-9ae8-ef42e5bab8a8",
   "metadata": {},
   "outputs": [
    {
     "data": {
      "image/png": "[encoded data removed]",
      "text/plain": [
       "<Figure size 432x288 with 1 Axes>"
      ]
     },
     "metadata": {
      "needs_background": "light"
     },
     "output_type": "display_data"
    }
   ],
   "source": [
    "for i in range(len(X_train.columns)):\n",
    "    plt.scatter(X_train[X_train.columns[i]], y_train)\n",
    "    #print(X_train.columns[i])\n",
    "    "
   ]
  },
  {
   "cell_type": "code",
   "execution_count": 69,
   "id": "83e247b5-8277-4060-8eb6-df74e19499f4",
   "metadata": {},
   "outputs": [],
   "source": [
    "dataset = pd.concat([X_train, y_train], axis = 1)"
   ]
  },
  {
   "cell_type": "code",
   "execution_count": 70,
   "id": "ed093563-d8ec-4dae-becd-b0bd9483f2a2",
   "metadata": {},
   "outputs": [
    {
     "data": {
      "text/plain": [
       "<AxesSubplot:xlabel='LB'>"
      ]
     },
     "execution_count": 70,
     "metadata": {},
     "output_type": "execute_result"
    },
    {
     "data": {
      "image/png": "[encoded data removed]",
      "text/plain": [
       "<Figure size 432x288 with 1 Axes>"
      ]
     },
     "metadata": {
      "needs_background": "light"
     },
     "output_type": "display_data"
    }
   ],
   "source": [
    "sns.boxplot(data = dataset, x = \"LB\")"
   ]
  },
  {
   "cell_type": "code",
   "execution_count": 71,
   "id": "1cf53151-1ac0-4b02-8f66-a24d1c015c4f",
   "metadata": {},
   "outputs": [
    {
     "data": {
      "text/plain": [
       "<AxesSubplot:xlabel='LT'>"
      ]
     },
     "execution_count": 71,
     "metadata": {},
     "output_type": "execute_result"
    },
    {
     "data": {
      "image/png": "[encoded data removed]",
      "text/plain": [
       "<Figure size 432x288 with 1 Axes>"
      ]
     },
     "metadata": {
      "needs_background": "light"
     },
     "output_type": "display_data"
    }
   ],
   "source": [
    "sns.boxplot(data = dataset, x = \"LT\")"
   ]
  },
  {
   "cell_type": "code",
   "execution_count": 76,
   "id": "15cd86e0-8c56-4194-ac45-36bc8614b567",
   "metadata": {},
   "outputs": [],
   "source": [
    "train_set = pd.concat([X_train, y_train], axis = 1)"
   ]
  },
  {
   "cell_type": "code",
   "execution_count": 77,
   "id": "e44f8125-0e07-4ffa-a259-4652a7a08cef",
   "metadata": {},
   "outputs": [
    {
     "data": {
      "text/html": [
       "<div>\n",
       "<style scoped>\n",
       "    .dataframe tbody tr th:only-of-type {\n",
       "        vertical-align: middle;\n",
       "    }\n",
       "\n",
       "    .dataframe tbody tr th {\n",
       "        vertical-align: top;\n",
       "    }\n",
       "\n",
       "    .dataframe thead th {\n",
       "        text-align: right;\n",
       "    }\n",
       "</style>\n",
       "<table border=\"1\" class=\"dataframe\">\n",
       "  <thead>\n",
       "    <tr style=\"text-align: right;\">\n",
       "      <th></th>\n",
       "      <th>LB</th>\n",
       "      <th>LT</th>\n",
       "      <th>KT</th>\n",
       "      <th>KM</th>\n",
       "      <th>GRS</th>\n",
       "      <th>HARGA</th>\n",
       "    </tr>\n",
       "  </thead>\n",
       "  <tbody>\n",
       "    <tr>\n",
       "      <th>846</th>\n",
       "      <td>140</td>\n",
       "      <td>84</td>\n",
       "      <td>3</td>\n",
       "      <td>2</td>\n",
       "      <td>1</td>\n",
       "      <td>2600000000</td>\n",
       "    </tr>\n",
       "    <tr>\n",
       "      <th>35</th>\n",
       "      <td>220</td>\n",
       "      <td>120</td>\n",
       "      <td>4</td>\n",
       "      <td>4</td>\n",
       "      <td>3</td>\n",
       "      <td>4000000000</td>\n",
       "    </tr>\n",
       "    <tr>\n",
       "      <th>728</th>\n",
       "      <td>525</td>\n",
       "      <td>330</td>\n",
       "      <td>4</td>\n",
       "      <td>4</td>\n",
       "      <td>3</td>\n",
       "      <td>16000000000</td>\n",
       "    </tr>\n",
       "    <tr>\n",
       "      <th>811</th>\n",
       "      <td>480</td>\n",
       "      <td>312</td>\n",
       "      <td>4</td>\n",
       "      <td>2</td>\n",
       "      <td>1</td>\n",
       "      <td>12500000000</td>\n",
       "    </tr>\n",
       "    <tr>\n",
       "      <th>293</th>\n",
       "      <td>102</td>\n",
       "      <td>102</td>\n",
       "      <td>3</td>\n",
       "      <td>3</td>\n",
       "      <td>2</td>\n",
       "      <td>2999000000</td>\n",
       "    </tr>\n",
       "    <tr>\n",
       "      <th>...</th>\n",
       "      <td>...</td>\n",
       "      <td>...</td>\n",
       "      <td>...</td>\n",
       "      <td>...</td>\n",
       "      <td>...</td>\n",
       "      <td>...</td>\n",
       "    </tr>\n",
       "    <tr>\n",
       "      <th>320</th>\n",
       "      <td>150</td>\n",
       "      <td>135</td>\n",
       "      <td>3</td>\n",
       "      <td>2</td>\n",
       "      <td>1</td>\n",
       "      <td>3750000000</td>\n",
       "    </tr>\n",
       "    <tr>\n",
       "      <th>527</th>\n",
       "      <td>400</td>\n",
       "      <td>230</td>\n",
       "      <td>5</td>\n",
       "      <td>5</td>\n",
       "      <td>3</td>\n",
       "      <td>8800000000</td>\n",
       "    </tr>\n",
       "    <tr>\n",
       "      <th>996</th>\n",
       "      <td>200</td>\n",
       "      <td>145</td>\n",
       "      <td>8</td>\n",
       "      <td>8</td>\n",
       "      <td>1</td>\n",
       "      <td>3800000000</td>\n",
       "    </tr>\n",
       "    <tr>\n",
       "      <th>125</th>\n",
       "      <td>139</td>\n",
       "      <td>230</td>\n",
       "      <td>4</td>\n",
       "      <td>4</td>\n",
       "      <td>1</td>\n",
       "      <td>4000000000</td>\n",
       "    </tr>\n",
       "    <tr>\n",
       "      <th>265</th>\n",
       "      <td>200</td>\n",
       "      <td>186</td>\n",
       "      <td>3</td>\n",
       "      <td>2</td>\n",
       "      <td>2</td>\n",
       "      <td>3850000000</td>\n",
       "    </tr>\n",
       "  </tbody>\n",
       "</table>\n",
       "<p>707 rows × 6 columns</p>\n",
       "</div>"
      ],
      "text/plain": [
       "      LB   LT  KT  KM  GRS        HARGA\n",
       "846  140   84   3   2    1   2600000000\n",
       "35   220  120   4   4    3   4000000000\n",
       "728  525  330   4   4    3  16000000000\n",
       "811  480  312   4   2    1  12500000000\n",
       "293  102  102   3   3    2   2999000000\n",
       "..   ...  ...  ..  ..  ...          ...\n",
       "320  150  135   3   2    1   3750000000\n",
       "527  400  230   5   5    3   8800000000\n",
       "996  200  145   8   8    1   3800000000\n",
       "125  139  230   4   4    1   4000000000\n",
       "265  200  186   3   2    2   3850000000\n",
       "\n",
       "[707 rows x 6 columns]"
      ]
     },
     "execution_count": 77,
     "metadata": {},
     "output_type": "execute_result"
    }
   ],
   "source": [
    "train_set"
   ]
  },
  {
   "cell_type": "code",
   "execution_count": null,
   "id": "11002f1c-0b72-4f81-b279-bf1c1283ba05",
   "metadata": {},
   "outputs": [],
   "source": []
  }
 ],
 "metadata": {
  "kernelspec": {
   "display_name": "Python 3 (ipykernel)",
   "language": "python",
   "name": "python3"
  },
  "language_info": {
   "codemirror_mode": {
    "name": "ipython",
    "version": 3
   },
   "file_extension": ".py",
   "mimetype": "text/x-python",
   "name": "python",
   "nbconvert_exporter": "python",
   "pygments_lexer": "ipython3",
   "version": "3.9.12"
  }
 },
 "nbformat": 4,
 "nbformat_minor": 5
}
