{
 "cells": [
  {
   "cell_type": "code",
   "execution_count": 3,
   "id": "bb150b32-5cfd-41de-b139-201ef88a29d3",
   "metadata": {},
   "outputs": [],
   "source": [
    "import src.util as utils\n",
    "import pandas as pd"
   ]
  },
  {
   "cell_type": "code",
   "execution_count": 4,
   "id": "dc169d99-d576-4b0e-996c-3950d9278a2d",
   "metadata": {},
   "outputs": [],
   "source": [
    "konfig = utils.load_params(str(utils.get_dir()) + utils.get_params())"
   ]
  },
  {
   "cell_type": "code",
   "execution_count": 24,
   "id": "77c508d2-3b02-4260-89df-1583569741ed",
   "metadata": {},
   "outputs": [],
   "source": [
    "def ambil_data():\n",
    "    X_train = utils.pickle_load(str(utils.get_dir())+utils.cek_path_os(konfig[\"train_set_path\"][0]))\n",
    "    y_train = utils.pickle_load(str(utils.get_dir())+utils.cek_path_os(konfig[\"train_set_path\"][1]))\n",
    "    \n",
    "    train_set = pd.concat([X_train, y_train], axis = 1)\n",
    "    \n",
    "    return train_set"
   ]
  },
  {
   "cell_type": "code",
   "execution_count": 6,
   "id": "683942b7-fb35-40a0-8140-9b96c707c7de",
   "metadata": {},
   "outputs": [],
   "source": [
    "def cek_outlier(dataset, pengkali):\n",
    "    interkuartil = pengkali * (dataset[\"HARGA\"].quantile(0.75) - dataset[\"HARGA\"].quantile(0.25))\n",
    "    batas_atas = dataset[\"HARGA\"].quantile(0.75) + interkuartil\n",
    "    data_outlier = dataset[dataset[\"HARGA\"] > batas_atas]\n",
    "    \n",
    "    return data_outlier"
   ]
  },
  {
   "cell_type": "code",
   "execution_count": 7,
   "id": "55813de9-1395-4169-a099-14775b519a23",
   "metadata": {},
   "outputs": [],
   "source": [
    "def cek_data(dataset, kolom, rentang, pengkali):\n",
    "    #fungsi ini awal2 akan memecah dataset dalam beberapa bagian sesuai rentang yang dimasukkan\n",
    "    #kemudian akan dicek outliernya pada masing-masing blok tersebut\n",
    "    data_outlier = pd.DataFrame()\n",
    "    blok = int(dataset[kolom].max() / rentang)\n",
    "    for i in range (1, blok):\n",
    "        data_blok = dataset[dataset[kolom] < rentang * i]\n",
    "        data_blok_cek_outlier = cek_outlier(data_blok, pengkali)\n",
    "        data_outlier = pd.concat([data_outlier, data_blok_cek_outlier])\n",
    "        #mengeluarkan data_blok dari dataset lama\n",
    "        dataset = dataset[~dataset.index.isin(data_blok.index)]\n",
    "    cek_outlier(dataset, pengkali)    \n",
    "    return data_outlier"
   ]
  },
  {
   "cell_type": "code",
   "execution_count": 25,
   "id": "2332ee82-85c7-481e-b975-1ce372d3df51",
   "metadata": {},
   "outputs": [],
   "source": [
    "def hapus_outlier(dataset, outlier):\n",
    "    try: \n",
    "        return dataset[~dataset.index.isin(outlier.index)]\n",
    "    except:\n",
    "        return dataset"
   ]
  },
  {
   "cell_type": "code",
   "execution_count": 27,
   "id": "4646e1ef-e0c4-48a5-a1f7-b950d28c86bc",
   "metadata": {},
   "outputs": [],
   "source": [
    "train_set = ambil_data()"
   ]
  },
  {
   "cell_type": "code",
   "execution_count": 34,
   "id": "816e5cec-7f15-4274-93a9-0edd7242050f",
   "metadata": {},
   "outputs": [
    {
     "data": {
      "text/html": [
       "<div>\n",
       "<style scoped>\n",
       "    .dataframe tbody tr th:only-of-type {\n",
       "        vertical-align: middle;\n",
       "    }\n",
       "\n",
       "    .dataframe tbody tr th {\n",
       "        vertical-align: top;\n",
       "    }\n",
       "\n",
       "    .dataframe thead th {\n",
       "        text-align: right;\n",
       "    }\n",
       "</style>\n",
       "<table border=\"1\" class=\"dataframe\">\n",
       "  <thead>\n",
       "    <tr style=\"text-align: right;\">\n",
       "      <th></th>\n",
       "      <th>LB</th>\n",
       "      <th>LT</th>\n",
       "      <th>KT</th>\n",
       "      <th>KM</th>\n",
       "      <th>GRS</th>\n",
       "      <th>HARGA</th>\n",
       "    </tr>\n",
       "  </thead>\n",
       "  <tbody>\n",
       "    <tr>\n",
       "      <th>532</th>\n",
       "      <td>140</td>\n",
       "      <td>246</td>\n",
       "      <td>6</td>\n",
       "      <td>6</td>\n",
       "      <td>1</td>\n",
       "      <td>16000000000</td>\n",
       "    </tr>\n",
       "    <tr>\n",
       "      <th>470</th>\n",
       "      <td>400</td>\n",
       "      <td>1075</td>\n",
       "      <td>4</td>\n",
       "      <td>3</td>\n",
       "      <td>4</td>\n",
       "      <td>55000000000</td>\n",
       "    </tr>\n",
       "    <tr>\n",
       "      <th>283</th>\n",
       "      <td>300</td>\n",
       "      <td>200</td>\n",
       "      <td>5</td>\n",
       "      <td>7</td>\n",
       "      <td>4</td>\n",
       "      <td>65000000000</td>\n",
       "    </tr>\n",
       "  </tbody>\n",
       "</table>\n",
       "</div>"
      ],
      "text/plain": [
       "      LB    LT  KT  KM  GRS        HARGA\n",
       "532  140   246   6   6    1  16000000000\n",
       "470  400  1075   4   3    4  55000000000\n",
       "283  300   200   5   7    4  65000000000"
      ]
     },
     "execution_count": 34,
     "metadata": {},
     "output_type": "execute_result"
    }
   ],
   "source": [
    "outlier_LB = cek_data(train_set, \"LB\", konfig[\"blok_LB\"][0], konfig[\"blok_LB\"][1])\n",
    "outlier_LB"
   ]
  },
  {
   "cell_type": "code",
   "execution_count": 35,
   "id": "1900aa20-6296-4254-bedd-adebb374925a",
   "metadata": {},
   "outputs": [
    {
     "data": {
      "text/html": [
       "<div>\n",
       "<style scoped>\n",
       "    .dataframe tbody tr th:only-of-type {\n",
       "        vertical-align: middle;\n",
       "    }\n",
       "\n",
       "    .dataframe tbody tr th {\n",
       "        vertical-align: top;\n",
       "    }\n",
       "\n",
       "    .dataframe thead th {\n",
       "        text-align: right;\n",
       "    }\n",
       "</style>\n",
       "<table border=\"1\" class=\"dataframe\">\n",
       "  <thead>\n",
       "    <tr style=\"text-align: right;\">\n",
       "      <th></th>\n",
       "      <th>LB</th>\n",
       "      <th>LT</th>\n",
       "      <th>KT</th>\n",
       "      <th>KM</th>\n",
       "      <th>GRS</th>\n",
       "      <th>HARGA</th>\n",
       "    </tr>\n",
       "  </thead>\n",
       "  <tbody>\n",
       "    <tr>\n",
       "      <th>283</th>\n",
       "      <td>300</td>\n",
       "      <td>200</td>\n",
       "      <td>5</td>\n",
       "      <td>7</td>\n",
       "      <td>4</td>\n",
       "      <td>65000000000</td>\n",
       "    </tr>\n",
       "  </tbody>\n",
       "</table>\n",
       "</div>"
      ],
      "text/plain": [
       "      LB   LT  KT  KM  GRS        HARGA\n",
       "283  300  200   5   7    4  65000000000"
      ]
     },
     "execution_count": 35,
     "metadata": {},
     "output_type": "execute_result"
    }
   ],
   "source": [
    "outlier_LT = cek_data(train_set, \"LT\", konfig[\"blok_LT\"][0], konfig[\"blok_LT\"][1])\n",
    "outlier_LT"
   ]
  },
  {
   "cell_type": "code",
   "execution_count": 36,
   "id": "0d5fd54a-9695-47e4-ae72-0bed5b97afeb",
   "metadata": {},
   "outputs": [
    {
     "data": {
      "text/plain": [
       "(707, 6)"
      ]
     },
     "execution_count": 36,
     "metadata": {},
     "output_type": "execute_result"
    }
   ],
   "source": [
    "train_set.shape"
   ]
  },
  {
   "cell_type": "code",
   "execution_count": 37,
   "id": "eefa8e51-0bf7-4598-b3cc-2f3189328eba",
   "metadata": {},
   "outputs": [
    {
     "data": {
      "text/plain": [
       "(704, 6)"
      ]
     },
     "execution_count": 37,
     "metadata": {},
     "output_type": "execute_result"
    }
   ],
   "source": [
    "train_set_clean = hapus_outlier(train_set, outlier_LB)\n",
    "train_set_clean.shape"
   ]
  },
  {
   "cell_type": "code",
   "execution_count": 38,
   "id": "5a39af43-ddec-48e2-81ea-b58afb3a8da2",
   "metadata": {},
   "outputs": [
    {
     "data": {
      "text/plain": [
       "(704, 6)"
      ]
     },
     "execution_count": 38,
     "metadata": {},
     "output_type": "execute_result"
    }
   ],
   "source": [
    "train_set_clean = hapus_outlier(train_set_clean, outlier_LT)\n",
    "train_set_clean.shape"
   ]
  },
  {
   "cell_type": "code",
   "execution_count": 39,
   "id": "6b0b09c6-0f18-48e4-87e5-b2a0bf33fb9e",
   "metadata": {},
   "outputs": [],
   "source": [
    "utils.pickle_dump(train_set_clean[konfig[\"prediktor\"]], konfig[\"train_clean_set_path\"][0])\n",
    "utils.pickle_dump(train_set_clean[konfig[\"label\"]], konfig[\"train_clean_set_path\"][1])"
   ]
  },
  {
   "cell_type": "code",
   "execution_count": null,
   "id": "7650e5a1-e56a-4f24-aac0-838024cb51db",
   "metadata": {},
   "outputs": [],
   "source": []
  }
 ],
 "metadata": {
  "kernelspec": {
   "display_name": "Python 3 (ipykernel)",
   "language": "python",
   "name": "python3"
  },
  "language_info": {
   "codemirror_mode": {
    "name": "ipython",
    "version": 3
   },
   "file_extension": ".py",
   "mimetype": "text/x-python",
   "name": "python",
   "nbconvert_exporter": "python",
   "pygments_lexer": "ipython3",
   "version": "3.9.12"
  }
 },
 "nbformat": 4,
 "nbformat_minor": 5
}
