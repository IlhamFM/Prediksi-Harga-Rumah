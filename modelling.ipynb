{
 "cells": [
  {
   "cell_type": "code",
   "execution_count": 1,
   "id": "c66af8e5-ea4f-47c7-b52f-48774224e286",
   "metadata": {},
   "outputs": [],
   "source": [
    "import src.util as utils\n",
    "import numpy as np\n",
    "import pandas as pd\n",
    "import matplotlib.pyplot as plt\n",
    "from sklearn.linear_model import LinearRegression\n",
    "#from sklearn.metrics import classification_report, ConfusionMatrixDisplay\n",
    "from sklearn.metrics import mean_absolute_error\n",
    "from sklearn.metrics import mean_squared_error\n",
    "from sklearn.model_selection import cross_val_score\n",
    "import math"
   ]
  },
  {
   "cell_type": "code",
   "execution_count": 2,
   "id": "3677eea8-f8ff-4a87-90cb-db20378729c3",
   "metadata": {},
   "outputs": [],
   "source": [
    "konfig = utils.load_params(str(utils.get_dir()) + utils.get_params())"
   ]
  },
  {
   "cell_type": "code",
   "execution_count": 3,
   "id": "a17d4b18-23d7-4bbc-a27a-698aca45d1b8",
   "metadata": {},
   "outputs": [],
   "source": [
    "def load_train_clean(params: dict):\n",
    "    # Load train set\n",
    "    X_train = utils.pickle_load(params[\"train_clean_set_path\"][0])\n",
    "    y_train = utils.pickle_load(params[\"train_clean_set_path\"][1])\n",
    "\n",
    "    return X_train, y_train\n",
    "\n",
    "def load_test(params: dict):\n",
    "    # Load tets set\n",
    "    X_test = utils.pickle_load(params[\"test_set_path\"][0])\n",
    "    y_test = utils.pickle_load(params[\"test_set_path\"][1])\n",
    "\n",
    "    return X_test, y_test"
   ]
  },
  {
   "cell_type": "code",
   "execution_count": 122,
   "id": "9e80e648-5a3d-4f36-a424-155e3399edff",
   "metadata": {},
   "outputs": [],
   "source": [
    "X_train, y_train = load_train_clean(konfig)\n",
    "X_test, y_test = load_test(konfig)"
   ]
  },
  {
   "cell_type": "code",
   "execution_count": 61,
   "id": "581191c4-6260-4cd7-a93e-9eb2be99dbc8",
   "metadata": {},
   "outputs": [],
   "source": [
    "def get_baseline_pred():\n",
    "    return y_train.mean()"
   ]
  },
  {
   "cell_type": "code",
   "execution_count": 62,
   "id": "70493f99-41f9-4d2c-9323-8b051a441ea4",
   "metadata": {},
   "outputs": [],
   "source": [
    "def get_baseline_rsme():\n",
    "    baseline_mse = mean_squared_error(y_train, np.ones(len(y_train)) * np.float64(get_baseline_pred()))\n",
    "    #print(get_baseline_pred())\n",
    "    #print(math.sqrt(baseline_mse))\n",
    "    return math.sqrt(baseline_mse)"
   ]
  },
  {
   "cell_type": "code",
   "execution_count": 13,
   "id": "55c7a995-197d-458f-b712-fa5c3559fd83",
   "metadata": {},
   "outputs": [
    {
     "name": "stdout",
     "output_type": "stream",
     "text": [
      "HARGA    7.456599e+09\n",
      "dtype: float64\n",
      "7068707503.465105\n"
     ]
    }
   ],
   "source": [
    "#xz = get_baseline_rsme()"
   ]
  },
  {
   "cell_type": "code",
   "execution_count": 123,
   "id": "58ed8870-9147-41a2-b3c7-b03dee623d9d",
   "metadata": {},
   "outputs": [],
   "source": [
    "lr = LinearRegression()"
   ]
  },
  {
   "cell_type": "code",
   "execution_count": 64,
   "id": "81c6f6dd-7e72-4e8a-a5e7-b358d632934a",
   "metadata": {},
   "outputs": [],
   "source": [
    "def get_scores_rsme():\n",
    "    scores_rsme = cross_val_score(estimator = lr,\n",
    "                         X = X_train,\n",
    "                         y = y_train,\n",
    "                         cv = 5,\n",
    "                         scoring = \"neg_root_mean_squared_error\")\n",
    "    return scores_rsme"
   ]
  },
  {
   "cell_type": "code",
   "execution_count": 124,
   "id": "e4bb7cca-c979-45c1-a5c6-fbb5070042ea",
   "metadata": {},
   "outputs": [
    {
     "data": {
      "text/plain": [
       "array([-3.99882273e+09, -3.60468865e+09, -3.60428506e+09, -3.40977583e+09,\n",
       "       -3.39740081e+09])"
      ]
     },
     "execution_count": 124,
     "metadata": {},
     "output_type": "execute_result"
    }
   ],
   "source": [
    "scores = get_scores_rsme()\n",
    "scores"
   ]
  },
  {
   "cell_type": "code",
   "execution_count": 125,
   "id": "ac8ee724-d84e-4c12-80fb-d79988d44408",
   "metadata": {},
   "outputs": [
    {
     "data": {
      "text/plain": [
       "3602994617.528216"
      ]
     },
     "execution_count": 125,
     "metadata": {},
     "output_type": "execute_result"
    }
   ],
   "source": [
    "lr_cv_scores = - np.mean(get_scores_rsme())\n",
    "lr_cv_scores"
   ]
  },
  {
   "cell_type": "code",
   "execution_count": 126,
   "id": "676ac565-d869-481e-8d40-f6014d36b930",
   "metadata": {},
   "outputs": [
    {
     "data": {
      "text/plain": [
       "(704, 1)"
      ]
     },
     "execution_count": 126,
     "metadata": {},
     "output_type": "execute_result"
    }
   ],
   "source": [
    "y_train.shape"
   ]
  },
  {
   "cell_type": "code",
   "execution_count": 127,
   "id": "71fe6e4c-421c-45c0-81ee-8ed6d90fe5a1",
   "metadata": {},
   "outputs": [
    {
     "data": {
      "text/plain": [
       "LinearRegression()"
      ]
     },
     "execution_count": 127,
     "metadata": {},
     "output_type": "execute_result"
    }
   ],
   "source": [
    "# Lakukan Fitting Data\n",
    "lr.fit(X = X_train, y = y_train)"
   ]
  },
  {
   "cell_type": "code",
   "execution_count": 128,
   "id": "86207c9d-955e-4552-be5c-974571b3caf6",
   "metadata": {},
   "outputs": [],
   "source": [
    "# Buat prediksi rsme\n",
    "y_pred = lr.predict(X_train)"
   ]
  },
  {
   "cell_type": "code",
   "execution_count": 39,
   "id": "c035abd9-f82a-4b08-b32b-11650b4fde46",
   "metadata": {},
   "outputs": [
    {
     "data": {
      "image/png": "[encoded data removed]",
      "text/plain": [
       "<Figure size 720x720 with 1 Axes>"
      ]
     },
     "metadata": {
      "needs_background": "light"
     },
     "output_type": "display_data"
    }
   ],
   "source": [
    "# Plot hasil\n",
    "fig, ax = plt.subplots(nrows=1, ncols=1, figsize=(10, 10))\n",
    "\n",
    "ax.scatter(y_train, y_pred)\n",
    "ax.plot([0, 30], [0, 30], \"--k\")\n",
    "\n",
    "ax.set_xlabel(\"Actual\")\n",
    "ax.set_ylabel(\"Prediction\")\n",
    "\n",
    "plt.show()"
   ]
  },
  {
   "cell_type": "code",
   "execution_count": 129,
   "id": "10b61186-4e87-48b7-a429-d1be5a24c2a4",
   "metadata": {},
   "outputs": [
    {
     "name": "stdout",
     "output_type": "stream",
     "text": [
      "3564297944.2741485\n"
     ]
    }
   ],
   "source": [
    "prediction_train = math.sqrt(mean_squared_error(y_pred, y_train))\n",
    "print(prediction_train)"
   ]
  },
  {
   "cell_type": "code",
   "execution_count": 130,
   "id": "4346da80-621b-4a4f-b7cf-e974ab710236",
   "metadata": {},
   "outputs": [
    {
     "data": {
      "text/plain": [
       "HARGA    7.456599e+09\n",
       "dtype: float64"
      ]
     },
     "execution_count": 130,
     "metadata": {},
     "output_type": "execute_result"
    }
   ],
   "source": [
    "baseline_mse = get_baseline_pred()\n",
    "baseline_pred"
   ]
  },
  {
   "cell_type": "code",
   "execution_count": 131,
   "id": "d0c6ebd7-61eb-47ec-908d-c3e3e9e77f2c",
   "metadata": {},
   "outputs": [
    {
     "name": "stdout",
     "output_type": "stream",
     "text": [
      "RMSE turun 49.98 %\n"
     ]
    }
   ],
   "source": [
    "comparison_rmse = 100*(get_baseline_rsme() - prediction_train) / get_baseline_rsme()\n",
    "print(f\"RMSE turun {comparison_rmse:.2f} %\")"
   ]
  },
  {
   "cell_type": "code",
   "execution_count": 132,
   "id": "7798c2bb-1e24-471d-89b3-1d35c75e34d0",
   "metadata": {},
   "outputs": [
    {
     "data": {
      "text/plain": [
       "array([[ 1.44151388e+07,  2.18051975e+07, -4.62321802e+08,\n",
       "         1.68448711e+08,  2.94588516e+08]])"
      ]
     },
     "execution_count": 132,
     "metadata": {},
     "output_type": "execute_result"
    }
   ],
   "source": [
    "lr.coef_"
   ]
  },
  {
   "cell_type": "code",
   "execution_count": 133,
   "id": "85164afe-555b-458c-bee6-785916e9521d",
   "metadata": {},
   "outputs": [],
   "source": [
    "y_test_pred = lr.predict(X_test)"
   ]
  },
  {
   "cell_type": "code",
   "execution_count": 134,
   "id": "bce8986c-497b-47a6-9f81-0ecb7438af92",
   "metadata": {},
   "outputs": [
    {
     "name": "stdout",
     "output_type": "stream",
     "text": [
      "2902605232.1855426\n"
     ]
    }
   ],
   "source": [
    "prediction_test = math.sqrt(mean_squared_error(y_test_pred, y_test))\n",
    "print(prediction_test)"
   ]
  },
  {
   "cell_type": "code",
   "execution_count": 135,
   "id": "6e81e54c-4785-47b3-b502-22d08860edf5",
   "metadata": {},
   "outputs": [
    {
     "name": "stdout",
     "output_type": "stream",
     "text": [
      "RMSE turun 59.26 %\n"
     ]
    }
   ],
   "source": [
    "comparison_rmse_test = 100*(get_baseline_rsme() - prediction_test) / get_baseline_rsme()\n",
    "print(f\"RMSE turun {comparison_rmse_test:.2f} %\")"
   ]
  },
  {
   "cell_type": "code",
   "execution_count": null,
   "id": "2d50eebe-f6dc-4684-9b4d-361743759275",
   "metadata": {},
   "outputs": [],
   "source": []
  }
 ],
 "metadata": {
  "kernelspec": {
   "display_name": "Python 3 (ipykernel)",
   "language": "python",
   "name": "python3"
  },
  "language_info": {
   "codemirror_mode": {
    "name": "ipython",
    "version": 3
   },
   "file_extension": ".py",
   "mimetype": "text/x-python",
   "name": "python",
   "nbconvert_exporter": "python",
   "pygments_lexer": "ipython3",
   "version": "3.9.12"
  }
 },
 "nbformat": 4,
 "nbformat_minor": 5
}
